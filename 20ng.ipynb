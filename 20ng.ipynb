{
 "metadata": {
  "name": "",
  "signature": "sha256:769ff2abaed6895e464954720a5732266a92f9cd72674bfcf2f690d51538735d"
 },
 "nbformat": 3,
 "nbformat_minor": 0,
 "worksheets": [
  {
   "cells": [
    {
     "cell_type": "markdown",
     "metadata": {},
     "source": [
      "# Dealing with text data in sklearn\n",
      "\n",
      "This demo is partially based on [the scipy2013 sklearn presentations](http://nbviewer.ipython.org/github/glouppe/tutorial-sklearn-scipy2013/blob/master/rendered_notebooks/05.2_application_to_text_mining.ipynb)"
     ]
    },
    {
     "cell_type": "code",
     "collapsed": false,
     "input": [
      "%pylab inline"
     ],
     "language": "python",
     "metadata": {},
     "outputs": [
      {
       "output_type": "stream",
       "stream": "stdout",
       "text": [
        "Populating the interactive namespace from numpy and matplotlib\n"
       ]
      }
     ],
     "prompt_number": 1
    },
    {
     "cell_type": "code",
     "collapsed": false,
     "input": [
      "# Score function from slides\n",
      "from sklearn.cross_validation import KFold\n",
      "from sklearn.metrics import accuracy_score\n",
      "\n",
      "def score(clf, X, Y, folds=2, verbose=False, metric=accuracy_score):\n",
      "    predictions = np.zeros(len(Y))\n",
      "    for i, (train, test) in enumerate(KFold(len(X), n_folds=folds, shuffle=True)):\n",
      "        clf.fit(X[train], Y[train])\n",
      "        predictions[test] = clf.predict(X[test])\n",
      "        if verbose:\n",
      "            print(\"Fold {}: {}\".format(i + 1, accuracy_score(Y[test], predictions[test])))\n",
      "    if metric:\n",
      "        return metric(Y, predictions)\n",
      "    return Y, predictions"
     ],
     "language": "python",
     "metadata": {},
     "outputs": [],
     "prompt_number": 2
    },
    {
     "cell_type": "code",
     "collapsed": false,
     "input": [
      "from sklearn.datasets import fetch_20newsgroups"
     ],
     "language": "python",
     "metadata": {},
     "outputs": [],
     "prompt_number": 3
    },
    {
     "cell_type": "markdown",
     "metadata": {},
     "source": [
      "# 20 Newsgroups dataset\n",
      "We will use a standard text dataset built into sklearn."
     ]
    },
    {
     "cell_type": "code",
     "collapsed": false,
     "input": [
      "# Set to None to use all categories -- use 4 for speed purposes\n",
      "categories = [\n",
      "    'alt.atheism',\n",
      "    'talk.religion.misc',\n",
      "    'comp.graphics',\n",
      "    'sci.space',\n",
      "]"
     ],
     "language": "python",
     "metadata": {},
     "outputs": [],
     "prompt_number": 4
    },
    {
     "cell_type": "code",
     "collapsed": false,
     "input": [
      "ng_train = fetch_20newsgroups(subset='train', categories=categories)\n",
      "ng_test = fetch_20newsgroups(subset='test', categories=categories)"
     ],
     "language": "python",
     "metadata": {},
     "outputs": [],
     "prompt_number": 5
    },
    {
     "cell_type": "markdown",
     "metadata": {},
     "source": [
      "The 20ng dataset consists of posts from 20 topical forums.  The goal is to classify a post as coming from one of the forums."
     ]
    },
    {
     "cell_type": "code",
     "collapsed": false,
     "input": [
      "ng_train.target_names"
     ],
     "language": "python",
     "metadata": {},
     "outputs": [
      {
       "metadata": {},
       "output_type": "pyout",
       "prompt_number": 6,
       "text": [
        "['alt.atheism', 'comp.graphics', 'sci.space', 'talk.religion.misc']"
       ]
      }
     ],
     "prompt_number": 6
    },
    {
     "cell_type": "code",
     "collapsed": false,
     "input": [
      "ng_train.target.shape"
     ],
     "language": "python",
     "metadata": {},
     "outputs": [
      {
       "metadata": {},
       "output_type": "pyout",
       "prompt_number": 7,
       "text": [
        "(2034,)"
       ]
      }
     ],
     "prompt_number": 7
    },
    {
     "cell_type": "code",
     "collapsed": false,
     "input": [
      "ng_train.data[0]"
     ],
     "language": "python",
     "metadata": {},
     "outputs": [
      {
       "metadata": {},
       "output_type": "pyout",
       "prompt_number": 8,
       "text": [
        "u\"From: rych@festival.ed.ac.uk (R Hawkes)\\nSubject: 3DS: Where did all the texture rules go?\\nLines: 21\\n\\nHi,\\n\\nI've noticed that if you only save a model (with all your mapping planes\\npositioned carefully) to a .3DS file that when you reload it after restarting\\n3DS, they are given a default position and orientation.  But if you save\\nto a .PRJ file their positions/orientation are preserved.  Does anyone\\nknow why this information is not stored in the .3DS file?  Nothing is\\nexplicitly said in the manual about saving texture rules in the .PRJ file. \\nI'd like to be able to read the texture rule information, does anyone have \\nthe format for the .PRJ file?\\n\\nIs the .CEL file format available from somewhere?\\n\\nRych\\n\\n======================================================================\\nRycharde Hawkes\\t\\t\\t\\temail: rych@festival.ed.ac.uk\\nVirtual Environment Laboratory\\nDept. of Psychology\\t\\t\\tTel  : +44 31 650 3426\\nUniv. of Edinburgh\\t\\t\\tFax  : +44 31 667 0150\\n======================================================================\\n\""
       ]
      }
     ],
     "prompt_number": 8
    },
    {
     "cell_type": "markdown",
     "metadata": {},
     "source": [
      "# Converting text to feature vectors: Bag of Words\n",
      "Text is not in a form suitable for classification algorithms.  We have to convert each post to a vector of features.\n",
      "\n",
      "The simplest approach is <b>bag of words</b>.  In its simplest form, each dimension of the feature vector corresponds to a word (\"car\", \"body\", etc), and the value is the number of times that word appears in the post.\n",
      "\n",
      "It is more common to use <b>ngram based models</b>, in which each dimension corresponds to an ngram (a sequence of n words: \"I was wondering\", \"was wondering if\").  Values still correspond to the number of times the ngram appears\n",
      "\n",
      "sklearn has several feature extractors to make this easy"
     ]
    },
    {
     "cell_type": "code",
     "collapsed": false,
     "input": [
      "from sklearn.feature_extraction.text import CountVectorizer\n",
      "\n",
      "# Learn ngrams of size 1,2,3\n",
      "# Use the 20000 most common items as the vocabulary\n",
      "counter = CountVectorizer(ngram_range=(1,3), max_features=20000)\n",
      "\n",
      "# Transformers also have a fit_transform method\n",
      "# This learns a transform then retursn the transform\n",
      "# applied to the training data\n",
      "train_counts = counter.fit_transform(ng_train.data)"
     ],
     "language": "python",
     "metadata": {},
     "outputs": [],
     "prompt_number": 9
    },
    {
     "cell_type": "code",
     "collapsed": false,
     "input": [
      "# After the vectorizer is fit, we can convert\n",
      "# any posts to feature vectors using the vocabulary it learned\n",
      "test_counts = counter.transform(ng_test.data)"
     ],
     "language": "python",
     "metadata": {},
     "outputs": [],
     "prompt_number": 10
    },
    {
     "cell_type": "code",
     "collapsed": false,
     "input": [
      "test_counts.shape"
     ],
     "language": "python",
     "metadata": {},
     "outputs": [
      {
       "metadata": {},
       "output_type": "pyout",
       "prompt_number": 11,
       "text": [
        "(1353, 20000)"
       ]
      }
     ],
     "prompt_number": 11
    },
    {
     "cell_type": "code",
     "collapsed": false,
     "input": [
      "# All nonzero terms are integers\n",
      "test_counts[2][test_counts[2].nonzero()]"
     ],
     "language": "python",
     "metadata": {},
     "outputs": [
      {
       "metadata": {},
       "output_type": "pyout",
       "prompt_number": 12,
       "text": [
        "matrix([[1, 1, 1, 1, 1, 1, 1, 1, 2, 2, 2, 1, 1, 2, 1, 1, 1, 2, 2, 1, 1, 2,\n",
        "         1, 1, 1, 1, 1, 1, 1, 1, 2, 1, 1, 1, 3, 2, 2, 1, 1, 1, 1, 1, 1, 1,\n",
        "         3, 1, 1, 1, 2, 1, 1, 1, 1, 1, 1, 1, 1, 1, 1, 1, 1, 1, 1, 1, 1, 1,\n",
        "         1, 1, 1, 2, 1, 1, 1, 1, 1, 1, 1, 1, 1, 1, 1, 1, 3, 1, 2, 1, 1, 1,\n",
        "         1, 1, 1, 1, 1, 3, 1, 1, 1, 1, 3, 2, 1, 1, 1, 1, 1, 1, 1, 1]])"
       ]
      }
     ],
     "prompt_number": 12
    },
    {
     "cell_type": "code",
     "collapsed": false,
     "input": [
      "# Example vocabulary\n",
      "np.random.permutation(counter.get_feature_names())[:100]"
     ],
     "language": "python",
     "metadata": {},
     "outputs": [
      {
       "metadata": {},
       "output_type": "pyout",
       "prompt_number": 13,
       "text": [
        "array([u'pl9', u'his followers', u'jbh55289', u'to god', u'best to',\n",
        "       u'and magick', u'reduced', u'lines 47', u'studied', u'lines 52',\n",
        "       u'psyrobtw', u'centaur', u'now we', u'have asked', u'campbell',\n",
        "       u'as far', u'vertical', u'this article', u'darkside osrhe uoknor',\n",
        "       u'ferdinand', u'is lot', u'mar', u'lawrence', u'long enough',\n",
        "       u'mit edu', u'period of', u'about them', u're political',\n",
        "       u'say what', u'sheet', u'this question', u'shared',\n",
        "       u'jbh55289 uxa cso', u'its first', u'matters', u'generation of',\n",
        "       u'soon as', u'equal to', u're solar', u'when nasa',\n",
        "       u'umich edu chris', u'exactly the same', u'who can', u'you who',\n",
        "       u'first corporation', u'criminal', u'meeting', u'computing center',\n",
        "       u'albert', u'cards', u'mchp sni', u'some good', u'group from code',\n",
        "       u'com ricardo hernandez', u'wrong or', u'routine needed',\n",
        "       u'please do', u'it got', u'believed that', u'boeing com', u'legal',\n",
        "       u're right', u'cynical', u'orville', u'to listen',\n",
        "       u'com bobbe vice', u'rejected', u'purdue university lines',\n",
        "       u'designing', u'there are more', u'dan bissell', u'built by',\n",
        "       u'on manned', u'breath', u'established', u'get them', u'in big',\n",
        "       u'the qur', u'encourage', u'nickh', u'convert', u'to what',\n",
        "       u'the faith', u'british', u'know and', u'cwru edu kmr4', u'three',\n",
        "       u're vulcan', u'you are not', u'if anyone knows', u'little more',\n",
        "       u'faa', u'would probably be', u'university cleveland', u'timer',\n",
        "       u'case western reserve', u'is born', u'the beginning',\n",
        "       u're looking', u'net prb'], \n",
        "      dtype='<U36')"
       ]
      }
     ],
     "prompt_number": 13
    },
    {
     "cell_type": "markdown",
     "metadata": {},
     "source": [
      "# Converting text to feature vectors: TFIDF\n",
      "Simple word counts does not give any information on how identifying a word is. \"the\" may appear many times in a post, but it is so common that it provides very little information.\n",
      "\n",
      "TFIDF (term frequency--inverse document frequency) attempts to remedy this.  The score of a word in a document increases as the number of time it appears in the document increases, but it decreases if the word is very common across the corpus.  This means that words that appear in few posts will have a higher score, indicating more discriminative power."
     ]
    },
    {
     "cell_type": "code",
     "collapsed": false,
     "input": [
      "from sklearn.feature_extraction.text import TfidfVectorizer\n",
      "\n",
      "# Learn ngrams of size 1,2,3\n",
      "tfidf = TfidfVectorizer(ngram_range=(1,3))\n",
      "\n",
      "train_tfidf = tfidf.fit_transform(ng_train.data)"
     ],
     "language": "python",
     "metadata": {},
     "outputs": [],
     "prompt_number": 14
    },
    {
     "cell_type": "code",
     "collapsed": false,
     "input": [
      "test_tfidf = tfidf.transform(ng_test.data)"
     ],
     "language": "python",
     "metadata": {},
     "outputs": [],
     "prompt_number": 15
    },
    {
     "cell_type": "code",
     "collapsed": false,
     "input": [
      "# All nonzero terms are floats in tfidf\n",
      "test_tfidf[2][test_tfidf[2].nonzero()]"
     ],
     "language": "python",
     "metadata": {},
     "outputs": [
      {
       "metadata": {},
       "output_type": "pyout",
       "prompt_number": 16,
       "text": [
        "matrix([[ 0.11079936,  0.03035157,  0.07605836,  0.03758967,  0.08829812,\n",
        "          0.08829812,  0.05160313,  0.05034449,  0.09543987,  0.055967  ,\n",
        "          0.14882331,  0.04612173,  0.1011086 ,  0.02524803,  0.055967  ,\n",
        "          0.07203633,  0.08359396,  0.04416436,  0.06579687,  0.0647209 ,\n",
        "          0.04227153,  0.11079936,  0.08008038,  0.08359396,  0.01398081,\n",
        "          0.09328472,  0.08359396,  0.09141784,  0.09798887,  0.11079936,\n",
        "          0.05713048,  0.08977114,  0.09798887,  0.10513063,  0.13780319,\n",
        "          0.11079936,  0.02517133,  0.02409706,  0.11079936,  0.11079936,\n",
        "          0.11079936,  0.08463005,  0.08172709,  0.07792523,  0.06109272,\n",
        "          0.06324787,  0.08359396,  0.07727484,  0.09328472,  0.09328472,\n",
        "          0.01457732,  0.08977114,  0.08172709,  0.0417683 ,  0.02517133,\n",
        "          0.02517133,  0.02517133,  0.11079936,  0.09798887,  0.03000148,\n",
        "          0.11079936,  0.09798887,  0.0378524 ,  0.03912065,  0.11079936,\n",
        "          0.03039595,  0.08463005,  0.08463005,  0.07493929,  0.08574911,\n",
        "          0.05100811,  0.04750532,  0.08172709,  0.06256574,  0.01398768,\n",
        "          0.11079936,  0.08359396,  0.09141784,  0.055967  ,  0.08574911,\n",
        "          0.03682834,  0.09141784,  0.08977114,  0.0808795 ,  0.05189838,\n",
        "          0.10513063,  0.06149799,  0.01582121,  0.11079936,  0.06348285,\n",
        "          0.03117286,  0.11079936,  0.11079936,  0.0250192 ,  0.10513063,\n",
        "          0.09543987,  0.05569286,  0.03831462,  0.09543987,  0.11079936,\n",
        "          0.1011086 ,  0.08892274,  0.11079936,  0.1011086 ,  0.10513063,\n",
        "          0.12139773,  0.10589126,  0.06758409,  0.02985104,  0.09798887,\n",
        "          0.04546943,  0.02796162,  0.11079936,  0.07000657,  0.06524854,\n",
        "          0.01866162,  0.08574911,  0.04088714,  0.06927056,  0.11079936,\n",
        "          0.05697118,  0.08977114,  0.03874132,  0.1011086 ,  0.06446436,\n",
        "          0.08463005,  0.11079936,  0.11221223,  0.11221223,  0.08463005,\n",
        "          0.07493929,  0.07493929,  0.11079936,  0.13049707,  0.04307371,\n",
        "          0.02848746,  0.14237749,  0.14237749,  0.12649574,  0.09798887,\n",
        "          0.06372184,  0.01647906,  0.03665487,  0.06012814,  0.0679055 ,\n",
        "          0.08172709,  0.08172709,  0.05140196]])"
       ]
      }
     ],
     "prompt_number": 16
    },
    {
     "cell_type": "markdown",
     "metadata": {},
     "source": [
      "# Visualizing posts\n",
      "We can use PCA to visualize the dataset in 2d"
     ]
    },
    {
     "cell_type": "code",
     "collapsed": false,
     "input": [
      "def vis_proj(proj, targets=ng_train.target):\n",
      "    plt.scatter(proj[:, 0], proj[:, 1], c=targets)\n",
      "    plt.colorbar();plt.show()"
     ],
     "language": "python",
     "metadata": {},
     "outputs": [],
     "prompt_number": 17
    },
    {
     "cell_type": "code",
     "collapsed": false,
     "input": [
      "from sklearn.decomposition import TruncatedSVD\n",
      "# Truncated SVD is similar to PCA\n",
      "svd = TruncatedSVD(n_components=2)\n",
      "proj = svd.fit_transform(train_tfidf)\n",
      "vis_proj(proj)"
     ],
     "language": "python",
     "metadata": {},
     "outputs": [
      {
       "metadata": {},
       "output_type": "display_data",
       "png": "[encoded data removed]",
       "text": [
        "<matplotlib.figure.Figure at 0x115279890>"
       ]
      }
     ],
     "prompt_number": 18
    },
    {
     "cell_type": "code",
     "collapsed": false,
     "input": [
      "proj = svd.fit_transform(train_counts)\n",
      "vis_proj(proj)"
     ],
     "language": "python",
     "metadata": {},
     "outputs": [
      {
       "metadata": {},
       "output_type": "display_data",
       "png": "[encoded data removed]",
       "text": [
        "<matplotlib.figure.Figure at 0x106121cd0>"
       ]
      }
     ],
     "prompt_number": 19
    },
    {
     "cell_type": "markdown",
     "metadata": {},
     "source": [
      "# Building a pipeline"
     ]
    },
    {
     "cell_type": "code",
     "collapsed": false,
     "input": [
      "from sklearn.pipeline import Pipeline"
     ],
     "language": "python",
     "metadata": {},
     "outputs": [],
     "prompt_number": 20
    },
    {
     "cell_type": "code",
     "collapsed": false,
     "input": [
      "from sklearn import svm\n",
      "from sklearn.linear_model import PassiveAggressiveClassifier\n",
      "pipeline = Pipeline([\n",
      "    ('tfidf', TfidfVectorizer(min_df=1, max_df=0.8, use_idf=True)),\n",
      "    ('clf', svm.LinearSVC())\n",
      "])"
     ],
     "language": "python",
     "metadata": {},
     "outputs": [],
     "prompt_number": 21
    },
    {
     "cell_type": "code",
     "collapsed": false,
     "input": [
      "pipeline.fit(ng_train.data, ng_train.target)"
     ],
     "language": "python",
     "metadata": {},
     "outputs": [
      {
       "metadata": {},
       "output_type": "pyout",
       "prompt_number": 22,
       "text": [
        "Pipeline(steps=[('tfidf', TfidfVectorizer(analyzer=u'word', binary=False, charset=None,\n",
        "        charset_error=None, decode_error=u'strict',\n",
        "        dtype=<type 'numpy.int64'>, encoding=u'utf-8', input=u'content',\n",
        "        lowercase=True, max_df=0.8, max_features=None, min_df=1,\n",
        "        ngram_range=(1, 1), nor...ling=1, loss='l2', multi_class='ovr', penalty='l2',\n",
        "     random_state=None, tol=0.0001, verbose=0))])"
       ]
      }
     ],
     "prompt_number": 22
    },
    {
     "cell_type": "code",
     "collapsed": false,
     "input": [
      "pred = pipeline.predict(ng_test.data)"
     ],
     "language": "python",
     "metadata": {},
     "outputs": [],
     "prompt_number": 23
    },
    {
     "cell_type": "code",
     "collapsed": false,
     "input": [
      "from sklearn import metrics\n",
      "print metrics.classification_report(ng_test.target, pred,\n",
      "                                    target_names=ng_test.target_names)\n",
      "print metrics.confusion_matrix(ng_test.target, pred)"
     ],
     "language": "python",
     "metadata": {},
     "outputs": [
      {
       "output_type": "stream",
       "stream": "stdout",
       "text": [
        "                    precision    recall  f1-score   support\n",
        "\n",
        "       alt.atheism       0.85      0.83      0.84       319\n",
        "     comp.graphics       0.92      0.98      0.95       389\n",
        "         sci.space       0.95      0.94      0.95       394\n",
        "talk.religion.misc       0.81      0.77      0.79       251\n",
        "\n",
        "       avg / total       0.89      0.89      0.89      1353\n",
        "\n",
        "[[265   8   6  40]\n",
        " [  1 380   5   3]\n",
        " [  3  18 372   1]\n",
        " [ 41   9   8 193]]\n"
       ]
      }
     ],
     "prompt_number": 24
    }
   ],
   "metadata": {}
  }
 ]
}