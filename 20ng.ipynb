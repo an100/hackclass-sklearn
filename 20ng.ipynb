{
 "metadata": {
  "name": "",
  "signature": "sha256:672c6fd4d08769e8c9724e7fb9ce750bc018076186ec2bfd9d5f2097fbedb52b"
 },
 "nbformat": 3,
 "nbformat_minor": 0,
 "worksheets": [
  {
   "cells": [
    {
     "cell_type": "markdown",
     "metadata": {},
     "source": [
      "# Dealing with text data in sklearn\n",
      "\n",
      "This demo is partially based on [the scipy2013 sklearn presentations](http://nbviewer.ipython.org/github/glouppe/tutorial-sklearn-scipy2013/blob/master/rendered_notebooks/05.2_application_to_text_mining.ipynb)"
     ]
    },
    {
     "cell_type": "code",
     "collapsed": false,
     "input": [
      "%pylab inline"
     ],
     "language": "python",
     "metadata": {},
     "outputs": [
      {
       "output_type": "stream",
       "stream": "stdout",
       "text": [
        "Populating the interactive namespace from numpy and matplotlib\n"
       ]
      }
     ],
     "prompt_number": 1
    },
    {
     "cell_type": "code",
     "collapsed": false,
     "input": [
      "# Score function from slides\n",
      "from sklearn.cross_validation import KFold\n",
      "from sklearn.metrics import accuracy_score\n",
      "\n",
      "def score(clf, X, Y, folds=2, verbose=False, metric=accuracy_score):\n",
      "    predictions = np.zeros(len(Y))\n",
      "    for i, (train, test) in enumerate(KFold(len(X), n_folds=folds, shuffle=True)):\n",
      "        clf.fit(X[train], Y[train])\n",
      "        predictions[test] = clf.predict(X[test])\n",
      "        if verbose:\n",
      "            print(\"Fold {}: {}\".format(i + 1, accuracy_score(Y[test], predictions[test])))\n",
      "    if metric:\n",
      "        return metric(Y, predictions)\n",
      "    return Y, predictions"
     ],
     "language": "python",
     "metadata": {},
     "outputs": [],
     "prompt_number": 2
    },
    {
     "cell_type": "code",
     "collapsed": false,
     "input": [
      "from sklearn.datasets import fetch_20newsgroups"
     ],
     "language": "python",
     "metadata": {},
     "outputs": [],
     "prompt_number": 3
    },
    {
     "cell_type": "markdown",
     "metadata": {},
     "source": [
      "# 20 Newsgroups dataset\n",
      "We will use a standard text dataset built into sklearn."
     ]
    },
    {
     "cell_type": "code",
     "collapsed": false,
     "input": [
      "# Set to None to use all categories -- use 4 for speed purposes\n",
      "categories = [\n",
      "    'alt.atheism',\n",
      "    'talk.religion.misc',\n",
      "    'comp.graphics',\n",
      "    'sci.space',\n",
      "]"
     ],
     "language": "python",
     "metadata": {},
     "outputs": [],
     "prompt_number": 4
    },
    {
     "cell_type": "code",
     "collapsed": false,
     "input": [
      "ng_train = fetch_20newsgroups(subset='train', categories=categories, remove=('headers', 'footers', 'quotes'))\n",
      "ng_test = fetch_20newsgroups(subset='test', categories=categories, remove=('headers', 'footers', 'quotes'))"
     ],
     "language": "python",
     "metadata": {},
     "outputs": [],
     "prompt_number": 5
    },
    {
     "cell_type": "markdown",
     "metadata": {},
     "source": [
      "The 20ng dataset consists of posts from 20 topical forums.  The goal is to classify a post as coming from one of the forums."
     ]
    },
    {
     "cell_type": "code",
     "collapsed": false,
     "input": [
      "ng_train.target_names"
     ],
     "language": "python",
     "metadata": {},
     "outputs": [
      {
       "metadata": {},
       "output_type": "pyout",
       "prompt_number": 6,
       "text": [
        "['alt.atheism', 'comp.graphics', 'sci.space', 'talk.religion.misc']"
       ]
      }
     ],
     "prompt_number": 6
    },
    {
     "cell_type": "code",
     "collapsed": false,
     "input": [
      "ng_train.target.shape"
     ],
     "language": "python",
     "metadata": {},
     "outputs": [
      {
       "metadata": {},
       "output_type": "pyout",
       "prompt_number": 7,
       "text": [
        "(2034,)"
       ]
      }
     ],
     "prompt_number": 7
    },
    {
     "cell_type": "code",
     "collapsed": false,
     "input": [
      "ng_train.data[0]"
     ],
     "language": "python",
     "metadata": {},
     "outputs": [
      {
       "metadata": {},
       "output_type": "pyout",
       "prompt_number": 8,
       "text": [
        "u\"Hi,\\n\\nI've noticed that if you only save a model (with all your mapping planes\\npositioned carefully) to a .3DS file that when you reload it after restarting\\n3DS, they are given a default position and orientation.  But if you save\\nto a .PRJ file their positions/orientation are preserved.  Does anyone\\nknow why this information is not stored in the .3DS file?  Nothing is\\nexplicitly said in the manual about saving texture rules in the .PRJ file. \\nI'd like to be able to read the texture rule information, does anyone have \\nthe format for the .PRJ file?\\n\\nIs the .CEL file format available from somewhere?\\n\\nRych\""
       ]
      }
     ],
     "prompt_number": 8
    },
    {
     "cell_type": "markdown",
     "metadata": {},
     "source": [
      "# Converting text to feature vectors: Bag of Words\n",
      "Text is not in a form suitable for classification algorithms.  We have to convert each post to a vector of features.\n",
      "\n",
      "The simplest approach is <b>bag of words</b>.  In its simplest form, each dimension of the feature vector corresponds to a word (\"car\", \"body\", etc), and the value is the number of times that word appears in the post.\n",
      "\n",
      "It is more common to use <b>ngram based models</b>, in which each dimension corresponds to an ngram (a sequence of n words: \"I was wondering\", \"was wondering if\").  Values still correspond to the number of times the ngram appears\n",
      "\n",
      "sklearn has several feature extractors to make this easy"
     ]
    },
    {
     "cell_type": "code",
     "collapsed": false,
     "input": [
      "from sklearn.feature_extraction.text import CountVectorizer\n",
      "\n",
      "# Learn ngrams of size 1,2,3\n",
      "# Use the 20000 most common items as the vocabulary\n",
      "counter = CountVectorizer(ngram_range=(1,3), max_features=20000)\n",
      "\n",
      "# Transformers also have a fit_transform method\n",
      "# This learns a transform then retursn the transform\n",
      "# applied to the training data\n",
      "train_counts = counter.fit_transform(ng_train.data)"
     ],
     "language": "python",
     "metadata": {},
     "outputs": [],
     "prompt_number": 9
    },
    {
     "cell_type": "code",
     "collapsed": false,
     "input": [
      "# After the vectorizer is fit, we can convert\n",
      "# any posts to feature vectors using the vocabulary it learned\n",
      "test_counts = counter.transform(ng_test.data)"
     ],
     "language": "python",
     "metadata": {},
     "outputs": [],
     "prompt_number": 10
    },
    {
     "cell_type": "code",
     "collapsed": false,
     "input": [
      "test_counts.shape"
     ],
     "language": "python",
     "metadata": {},
     "outputs": [
      {
       "metadata": {},
       "output_type": "pyout",
       "prompt_number": 11,
       "text": [
        "(1353, 20000)"
       ]
      }
     ],
     "prompt_number": 11
    },
    {
     "cell_type": "code",
     "collapsed": false,
     "input": [
      "# All nonzero terms are integers\n",
      "test_counts[2][test_counts[2].nonzero()]"
     ],
     "language": "python",
     "metadata": {},
     "outputs": [
      {
       "metadata": {},
       "output_type": "pyout",
       "prompt_number": 12,
       "text": [
        "matrix([[1, 1, 1, 1, 1, 2, 1, 1, 1, 1, 1, 1, 1, 1, 1, 1, 1, 1, 3, 2, 1, 1,\n",
        "         1, 1, 1, 1, 3, 1, 1, 1, 2, 1, 1, 1, 1, 1, 1, 1, 1, 1, 1, 1, 1, 2,\n",
        "         1, 1, 1, 3, 1, 2, 1, 1, 3, 1, 1, 1, 1, 3, 2, 1, 1, 1, 1, 1, 1, 1, 1]])"
       ]
      }
     ],
     "prompt_number": 12
    },
    {
     "cell_type": "code",
     "collapsed": false,
     "input": [
      "# Example vocabulary\n",
      "np.random.permutation(counter.get_feature_names())[:100]"
     ],
     "language": "python",
     "metadata": {},
     "outputs": [
      {
       "metadata": {},
       "output_type": "pyout",
       "prompt_number": 13,
       "text": [
        "array([u'exist', u'fake', u'exists and', u'recognize that',\n",
        "       u'but there are', u'something', u'difference in', u'interaction',\n",
        "       u'polygon', u'the graphics', u'pushing', u'of pc',\n",
        "       u'know if anyone', u'patience', u'617', u'is never', u'of ways',\n",
        "       u'you mention', u'and source', u'in by', u'are available',\n",
        "       u'fractal', u'the believer', u'designers', u'the charge',\n",
        "       u'an application', u'with some', u'fear', u'nick', u'didn make',\n",
        "       u'by david', u'made', u'pretend', u'conference', u'so now',\n",
        "       u'question and', u'in any case', u'this the', u'press release',\n",
        "       u'in terms of', u'an enormous', u'proprietary', u'new version of',\n",
        "       u'spacecraft attitude', u'on something', u'office kjenks',\n",
        "       u'for over', u'll find', u'answers to', u'to face', u'would',\n",
        "       u'explosion', u'are on', u'typical', u'someone is', u'headline',\n",
        "       u'allow me to', u'of the word', u'figure', u'where can ftp',\n",
        "       u'to implement', u'from us', u'on what', u'terminal', u'war on',\n",
        "       u'will no', u'kind of like', u'more than one', u'venus',\n",
        "       u'sorry don', u'are distributed', u'the uk', u'far more',\n",
        "       u'that uses', u'exclusive', u'of users', u'kennedy space', u'alter',\n",
        "       u'battle', u'problem in', u'cost of', u'will this', u'best of',\n",
        "       u'planning to', u'the item', u'the committee', u'run on',\n",
        "       u'find it rather', u'nor', u'this leads', u'latter day', u'to save',\n",
        "       u'no real', u'heaven but', u'of the art', u'and tried to', u'mu',\n",
        "       u'in the field', u'to acknowledge', u'63'], \n",
        "      dtype='<U29')"
       ]
      }
     ],
     "prompt_number": 13
    },
    {
     "cell_type": "markdown",
     "metadata": {},
     "source": [
      "# Converting text to feature vectors: TFIDF\n",
      "Simple word counts does not give any information on how identifying a word is. \"the\" may appear many times in a post, but it is so common that it provides very little information.\n",
      "\n",
      "TFIDF (term frequency--inverse document frequency) attempts to remedy this.  The score of a word in a document increases as the number of time it appears in the document increases, but it decreases if the word is very common across the corpus.  This means that words that appear in few posts will have a higher score, indicating more discriminative power."
     ]
    },
    {
     "cell_type": "code",
     "collapsed": false,
     "input": [
      "from sklearn.feature_extraction.text import TfidfVectorizer\n",
      "\n",
      "# Learn ngrams of size 1,2,3\n",
      "tfidf = TfidfVectorizer(ngram_range=(1,3), min_df=1, max_df=0.8, use_idf=True)\n",
      "\n",
      "train_tfidf = tfidf.fit_transform(ng_train.data)"
     ],
     "language": "python",
     "metadata": {},
     "outputs": [],
     "prompt_number": 14
    },
    {
     "cell_type": "code",
     "collapsed": false,
     "input": [
      "test_tfidf = tfidf.transform(ng_test.data)"
     ],
     "language": "python",
     "metadata": {},
     "outputs": [],
     "prompt_number": 15
    },
    {
     "cell_type": "code",
     "collapsed": false,
     "input": [
      "# All nonzero terms are floats in tfidf\n",
      "test_tfidf[2][test_tfidf[2].nonzero()]"
     ],
     "language": "python",
     "metadata": {},
     "outputs": [
      {
       "metadata": {},
       "output_type": "pyout",
       "prompt_number": 16,
       "text": [
        "matrix([[ 0.13752008,  0.04263576,  0.09513934,  0.05312323,  0.11578155,\n",
        "          0.06981124,  0.0684628 ,  0.12162018,  0.07394826,  0.19182137,\n",
        "          0.06731552,  0.12549227,  0.0369442 ,  0.07350893,  0.09440082,\n",
        "          0.10959236,  0.13752008,  0.1050397 ,  0.11346445,  0.13048426,\n",
        "          0.08293576,  0.11142063,  0.12162018,  0.13048426,  0.20996222,\n",
        "          0.08273834,  0.11578155,  0.10255655,  0.06195591,  0.13752008,\n",
        "          0.12162018,  0.04388796,  0.13752008,  0.12549227,  0.05227341,\n",
        "          0.05481063,  0.13752008,  0.04412567,  0.11346445,  0.07245694,\n",
        "          0.06691244,  0.13752008,  0.11346445,  0.11578155,  0.07486176,\n",
        "          0.11346445,  0.05274717,  0.11578155,  0.11346445,  0.1079385 ,\n",
        "          0.0761524 ,  0.13048426,  0.13752008,  0.08785384,  0.04679391,\n",
        "          0.13048426,  0.11845645,  0.07329337,  0.05373694,  0.13752008,\n",
        "          0.13048426,  0.06248572,  0.13752008,  0.13048426,  0.13048426,\n",
        "          0.1581784 ,  0.1486863 ,  0.08940883,  0.04248994,  0.12162018,\n",
        "          0.06430122,  0.03734435,  0.13752008,  0.092357  ,  0.08785384,\n",
        "          0.02855599,  0.10959236,  0.05769601,  0.08887487,  0.13048426,\n",
        "          0.08469011,  0.13752008,  0.17377913,  0.06073809,  0.04227349,\n",
        "          0.12549227,  0.08785384,  0.02416798,  0.05312323]])"
       ]
      }
     ],
     "prompt_number": 16
    },
    {
     "cell_type": "markdown",
     "metadata": {},
     "source": [
      "# Visualizing posts\n",
      "We can use PCA to visualize the dataset in 2d"
     ]
    },
    {
     "cell_type": "code",
     "collapsed": false,
     "input": [
      "def vis_proj(proj, targets=ng_train.target):\n",
      "    plt.scatter(proj[:, 0], proj[:, 1], c=targets)\n",
      "    plt.colorbar();plt.show()"
     ],
     "language": "python",
     "metadata": {},
     "outputs": [],
     "prompt_number": 17
    },
    {
     "cell_type": "code",
     "collapsed": false,
     "input": [
      "from sklearn.decomposition import TruncatedSVD\n",
      "# Truncated SVD is similar to PCA\n",
      "svd = TruncatedSVD(n_components=2)\n",
      "proj = svd.fit_transform(train_tfidf)\n",
      "vis_proj(proj)"
     ],
     "language": "python",
     "metadata": {},
     "outputs": [
      {
       "metadata": {},
       "output_type": "display_data",
       "png": "[encoded data removed]",
       "text": [
        "<matplotlib.figure.Figure at 0x10b7c5650>"
       ]
      }
     ],
     "prompt_number": 18
    },
    {
     "cell_type": "code",
     "collapsed": false,
     "input": [
      "proj = svd.fit_transform(train_counts)\n",
      "vis_proj(proj)"
     ],
     "language": "python",
     "metadata": {},
     "outputs": [
      {
       "metadata": {},
       "output_type": "display_data",
       "png": "[encoded data removed]",
       "text": [
        "<matplotlib.figure.Figure at 0x10b7c5810>"
       ]
      }
     ],
     "prompt_number": 19
    },
    {
     "cell_type": "markdown",
     "metadata": {},
     "source": [
      "# Building a pipeline"
     ]
    },
    {
     "cell_type": "code",
     "collapsed": false,
     "input": [
      "from sklearn.pipeline import Pipeline"
     ],
     "language": "python",
     "metadata": {},
     "outputs": [],
     "prompt_number": 20
    },
    {
     "cell_type": "code",
     "collapsed": false,
     "input": [
      "from sklearn import svm\n",
      "pipeline = Pipeline([\n",
      "    ('tfidf', TfidfVectorizer(min_df=1, max_df=0.8, use_idf=True)),\n",
      "    ('clf', svm.LinearSVC())\n",
      "])"
     ],
     "language": "python",
     "metadata": {},
     "outputs": [],
     "prompt_number": 21
    },
    {
     "cell_type": "code",
     "collapsed": false,
     "input": [
      "pipeline.fit(ng_train.data, ng_train.target)"
     ],
     "language": "python",
     "metadata": {},
     "outputs": [
      {
       "metadata": {},
       "output_type": "pyout",
       "prompt_number": 22,
       "text": [
        "Pipeline(steps=[('tfidf', TfidfVectorizer(analyzer=u'word', binary=False, charset=None,\n",
        "        charset_error=None, decode_error=u'strict',\n",
        "        dtype=<type 'numpy.int64'>, encoding=u'utf-8', input=u'content',\n",
        "        lowercase=True, max_df=0.8, max_features=None, min_df=1,\n",
        "        ngram_range=(1, 1), nor...ling=1, loss='l2', multi_class='ovr', penalty='l2',\n",
        "     random_state=None, tol=0.0001, verbose=0))])"
       ]
      }
     ],
     "prompt_number": 22
    },
    {
     "cell_type": "code",
     "collapsed": false,
     "input": [
      "pred = pipeline.predict(ng_test.data)"
     ],
     "language": "python",
     "metadata": {},
     "outputs": [],
     "prompt_number": 23
    },
    {
     "cell_type": "code",
     "collapsed": false,
     "input": [
      "from sklearn import metrics\n",
      "print metrics.classification_report(ng_test.target, pred,\n",
      "                                    target_names=ng_test.target_names)\n",
      "print metrics.confusion_matrix(ng_test.target, pred)"
     ],
     "language": "python",
     "metadata": {},
     "outputs": [
      {
       "output_type": "stream",
       "stream": "stdout",
       "text": [
        "                    precision    recall  f1-score   support\n",
        "\n",
        "       alt.atheism       0.69      0.62      0.65       319\n",
        "     comp.graphics       0.88      0.90      0.89       389\n",
        "         sci.space       0.79      0.89      0.83       394\n",
        "talk.religion.misc       0.68      0.61      0.64       251\n",
        "\n",
        "       avg / total       0.77      0.78      0.77      1353\n",
        "\n",
        "[[197  14  47  61]\n",
        " [  7 352  25   5]\n",
        " [ 18  21 349   6]\n",
        " [ 63  12  23 153]]\n"
       ]
      }
     ],
     "prompt_number": 24
    }
   ],
   "metadata": {}
  }
 ]
}